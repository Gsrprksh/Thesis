{
  "nbformat": 4,
  "nbformat_minor": 0,
  "metadata": {
    "colab": {
      "name": "thesis demo.ipynb",
      "provenance": [],
      "collapsed_sections": []
    },
    "kernelspec": {
      "name": "python3",
      "display_name": "Python 3"
    },
    "language_info": {
      "name": "python"
    },
    "accelerator": "TPU"
  },
  "cells": [
    {
      "cell_type": "code",
      "execution_count": null,
      "metadata": {
        "id": "P9ArWk4pipAC"
      },
      "outputs": [],
      "source": [
        "import numpy as np\n",
        "import pandas as pd\n",
        "from osgeo import gdal\n",
        "import matplotlib.pyplot as plt"
      ]
    },
    {
      "cell_type": "code",
      "source": [
        "hh_20201209 = gdal.Open('/content/drive/MyDrive/final folder/hh_20201209.tif')\n",
        "hh_20210112 = gdal.Open('/content/drive/MyDrive/final folder/hh_20210110.tif')\n",
        "hh_20210211 = gdal.Open('/content/drive/MyDrive/final folder/hh_20210211.tif')\n",
        "hh_20210227 = gdal.Open('/content/drive/MyDrive/final folder/hh_20210227.tif')"
      ],
      "metadata": {
        "id": "l-j-MEkxjJRd"
      },
      "execution_count": null,
      "outputs": []
    },
    {
      "cell_type": "code",
      "source": [
        "hh1 = hh_20201209.ReadAsArray().astype(np.float)\n",
        "hh2 = hh_20210112.ReadAsArray().astype(np.float)\n",
        "hh3 = hh_20210211.ReadAsArray().astype(np.float)\n",
        "hh4 = hh_20210227.ReadAsArray().astype(np.float)"
      ],
      "metadata": {
        "id": "-LPzMfuwg8SD"
      },
      "execution_count": null,
      "outputs": []
    },
    {
      "cell_type": "code",
      "source": [
        "hv_20201209 = gdal.Open('/content/drive/MyDrive/final folder/hv_20201209.tif')\n",
        "hv_20210112 = gdal.Open('/content/drive/MyDrive/final folder/hv_20210110.tif')\n",
        "hv_20210211 = gdal.Open('/content/drive/MyDrive/final folder/hv_20210211.tif')\n",
        "hv_20210227 = gdal.Open('/content/drive/MyDrive/final folder/hv_20210227.tif')\n",
        "\n"
      ],
      "metadata": {
        "id": "8ix3eUJHkF62"
      },
      "execution_count": null,
      "outputs": []
    },
    {
      "cell_type": "code",
      "source": [
        "hv1 = hv_20201209.ReadAsArray().astype(np.float)\n",
        "hv2 = hv_20210112.ReadAsArray().astype(np.float)\n",
        "hv3 = hv_20210211.ReadAsArray().astype(np.float)\n",
        "hv4 = hv_20210227.ReadAsArray().astype(np.float)"
      ],
      "metadata": {
        "id": "_pD_IR6LZ35M"
      },
      "execution_count": null,
      "outputs": []
    },
    {
      "cell_type": "code",
      "source": [
        "vh_20201209 = gdal.Open('/content/drive/MyDrive/final folder/vh_20201209.tif')\n",
        "vh_20210112 = gdal.Open('/content/drive/MyDrive/final folder/vh_20210110.tif')\n",
        "vh_20210211 = gdal.Open('/content/drive/MyDrive/final folder/vh_20200211.tif')\n",
        "vh_20210227 = gdal.Open('/content/drive/MyDrive/final folder/vh_20210227.tif')"
      ],
      "metadata": {
        "id": "tj425J6qlIpv"
      },
      "execution_count": null,
      "outputs": []
    },
    {
      "cell_type": "code",
      "source": [
        "vh1 = vh_20201209.ReadAsArray().astype(np.float)\n",
        "vh2 = vh_20210112.ReadAsArray().astype(np.float)\n",
        "vh3 = vh_20210211.ReadAsArray().astype(np.float)\n",
        "vh4 = vh_20210227.ReadAsArray().astype(np.float)"
      ],
      "metadata": {
        "id": "XlI2CCDBaJ-Z"
      },
      "execution_count": null,
      "outputs": []
    },
    {
      "cell_type": "code",
      "source": [
        "vv_20201209 = gdal.Open('/content/drive/MyDrive/final folder/vv_20201209.tif')\n",
        "vv_20210112 = gdal.Open('/content/drive/MyDrive/final folder/vv_20210110.tif')\n",
        "vv_20210211 = gdal.Open('/content/drive/MyDrive/final folder/vv_20210211.tif')\n",
        "vv_20210227 = gdal.Open('/content/drive/MyDrive/final folder/vv_20210227.tif')"
      ],
      "metadata": {
        "id": "58P6wGlSmvOe"
      },
      "execution_count": null,
      "outputs": []
    },
    {
      "cell_type": "code",
      "source": [
        "vv1 = vv_20201209.ReadAsArray().astype(np.float)\n",
        "vv2 = vv_20210112.ReadAsArray().astype(np.float)\n",
        "vv3 = vv_20210211.ReadAsArray().astype(np.float)\n",
        "vv4 = vv_20210227.ReadAsArray().astype(np.float)"
      ],
      "metadata": {
        "id": "aLlzF7N1aX-v"
      },
      "execution_count": null,
      "outputs": []
    },
    {
      "cell_type": "code",
      "source": [
        "x,y = vv4.shape\n",
        "print(x)\n",
        "print(y)"
      ],
      "metadata": {
        "id": "iJEhBrxQeXGD",
        "colab": {
          "base_uri": "https://localhost:8080/"
        },
        "outputId": "009185a0-054e-4a64-bc93-2407d1dc7b50"
      },
      "execution_count": null,
      "outputs": [
        {
          "output_type": "stream",
          "name": "stdout",
          "text": [
            "744\n",
            "1233\n"
          ]
        }
      ]
    },
    {
      "cell_type": "code",
      "source": [
        "hh2rs = hh2[:742,:1231]\n",
        "hh2rs.shape\n",
        "hh3rs = hh3[:742,:1231]\n",
        "hh3rs.shape\n",
        "hh4rs = hh4[:742,:1231]\n",
        "hv2rs = hv2[:742,:1231]\n",
        "hv3rs = hv3[:742,:1231]\n",
        "hv4rs = hv4[:742,:1231]\n",
        "vh2rs = vh2[:742,:1231]\n",
        "vh3rs = vh3[:742,:1231]\n",
        "vh4rs = vh4[:742,:1231]\n",
        "vv2rs = vv2[:742,:1231]\n",
        "vv3rs = vv3[:742,:1231]\n",
        "vv4rs = vv4[:742,:1231]"
      ],
      "metadata": {
        "id": "08H3GQe84nwW"
      },
      "execution_count": null,
      "outputs": []
    },
    {
      "cell_type": "code",
      "source": [
        "hh1_reshape = np.reshape(hh1,[742*1231,1],order = 'F')\n",
        "df = pd.DataFrame(hh1_reshape)\n",
        "hh2_reshape = np.reshape(hh2rs,[742*1231,1],order = 'F')\n",
        "df[1] = pd.DataFrame(hh2_reshape)\n",
        "hh3_reshape = np.reshape(hh3rs,[742*1231,1],order = 'F')\n",
        "df[2] = pd.DataFrame(hh3_reshape)\n",
        "hh4_reshape = np.reshape(hh4rs,[742*1231,1],order = 'F')\n",
        "df[3] = pd.DataFrame(hh4_reshape)\n",
        "hv1_reshape = np.reshape(hv1,[742*1231,1],order = 'F')\n",
        "df[4] = pd.DataFrame(hv1_reshape)\n",
        "hv2_reshape = np.reshape(hv2rs,[742*1231,1],order = 'F')\n",
        "df[5] = pd.DataFrame(hv2_reshape)\n",
        "hv3_reshape = np.reshape(hv3rs,[742*1231,1],order = 'F')\n",
        "df[6] = pd.DataFrame(hv3_reshape)\n",
        "hv4_reshape = np.reshape(hv4rs,[742*1231,1],order = 'F')\n",
        "df[7] = pd.DataFrame(hv4_reshape)\n",
        "vh1_reshape = np.reshape(vh1,[742*1231,1],order = 'F')\n",
        "df[8] = pd.DataFrame(vh1_reshape)\n",
        "vh2_reshape = np.reshape(vh2rs,[742*1231,1],order = 'F')\n",
        "df[9] = pd.DataFrame(vh2_reshape)\n",
        "vh3_reshape = np.reshape(vh3rs,[742*1231,1],order = 'F')\n",
        "df[10] = pd.DataFrame(vh3_reshape)\n",
        "vh4_reshape = np.reshape(vh4rs,[742*1231,1],order = 'F')\n",
        "df[11] = pd.DataFrame(vh4_reshape)\n",
        "vv1_reshape = np.reshape(vv1,[742*1231,1],order = 'F')\n",
        "df[12] = pd.DataFrame(vv1_reshape)\n",
        "vv2_reshape = np.reshape(vv2rs,[742*1231,1],order = 'F')\n",
        "df[13] = pd.DataFrame(vv2_reshape)\n",
        "vv3_reshape = np.reshape(vv3rs,[742*1231,1],order = 'F')\n",
        "df[14] = pd.DataFrame(vv3_reshape)\n",
        "vv4_reshape = np.reshape(vv4rs,[742*1231,1],order = 'F')\n",
        "df[15] = pd.DataFrame(vv4_reshape)\n"
      ],
      "metadata": {
        "id": "6VtdAA0hbh7_"
      },
      "execution_count": null,
      "outputs": []
    },
    {
      "cell_type": "code",
      "source": [
        "df"
      ],
      "metadata": {
        "id": "-Xicn_K34Qge"
      },
      "execution_count": null,
      "outputs": []
    },
    {
      "cell_type": "code",
      "source": [
        "from PIL import Image\n",
        "import os"
      ],
      "metadata": {
        "id": "SVJxTInIsAT1"
      },
      "execution_count": null,
      "outputs": []
    },
    {
      "cell_type": "code",
      "source": [
        "df1 = (df.loc[df[0]<=0.12])\n",
        "df1"
      ],
      "metadata": {
        "id": "pY1FrYX88TuY"
      },
      "execution_count": null,
      "outputs": []
    },
    {
      "cell_type": "code",
      "source": [
        "df2 = (df.loc[df[0]<=0.2])\n",
        "df3 = (df2.loc[df2[0]>0.12])\n",
        "df3\n",
        "\n"
      ],
      "metadata": {
        "id": "idjLKUVsaouE"
      },
      "execution_count": null,
      "outputs": []
    },
    {
      "cell_type": "code",
      "source": [
        "df4 = (df.loc[df[0]<=0.36])\n",
        "df5 = (df4.loc[df4[0]>0.2])\n",
        "df5"
      ],
      "metadata": {
        "id": "PSzrRZ9EUL5T"
      },
      "execution_count": null,
      "outputs": []
    },
    {
      "cell_type": "code",
      "source": [
        "df6 = (df.loc[df[0]<=0.44])\n",
        "df7 = (df6.loc[df6[0]>0.36])\n",
        "df7"
      ],
      "metadata": {
        "id": "u4qJc1o2VidU",
        "colab": {
          "base_uri": "https://localhost:8080/",
          "height": 423
        },
        "outputId": "89c47a30-fe2c-4f9e-eb89-dae0d934981d"
      },
      "execution_count": null,
      "outputs": [
        {
          "output_type": "execute_result",
          "data": {
            "text/html": [
              "\n",
              "  <div id=\"df-3451d7be-d644-42ce-85e0-9e08508ee346\">\n",
              "    <div class=\"colab-df-container\">\n",
              "      <div>\n",
              "<style scoped>\n",
              "    .dataframe tbody tr th:only-of-type {\n",
              "        vertical-align: middle;\n",
              "    }\n",
              "\n",
              "    .dataframe tbody tr th {\n",
              "        vertical-align: top;\n",
              "    }\n",
              "\n",
              "    .dataframe thead th {\n",
              "        text-align: right;\n",
              "    }\n",
              "</style>\n",
              "<table border=\"1\" class=\"dataframe\">\n",
              "  <thead>\n",
              "    <tr style=\"text-align: right;\">\n",
              "      <th></th>\n",
              "      <th>0</th>\n",
              "      <th>1</th>\n",
              "      <th>2</th>\n",
              "      <th>3</th>\n",
              "      <th>4</th>\n",
              "      <th>5</th>\n",
              "      <th>6</th>\n",
              "      <th>7</th>\n",
              "      <th>8</th>\n",
              "      <th>9</th>\n",
              "      <th>10</th>\n",
              "      <th>11</th>\n",
              "      <th>12</th>\n",
              "      <th>13</th>\n",
              "      <th>14</th>\n",
              "      <th>15</th>\n",
              "    </tr>\n",
              "  </thead>\n",
              "  <tbody>\n",
              "    <tr>\n",
              "      <th>293</th>\n",
              "      <td>0.360440</td>\n",
              "      <td>0.375320</td>\n",
              "      <td>0.461218</td>\n",
              "      <td>0.582058</td>\n",
              "      <td>0.188943</td>\n",
              "      <td>0.134943</td>\n",
              "      <td>0.143073</td>\n",
              "      <td>0.166928</td>\n",
              "      <td>0.160846</td>\n",
              "      <td>0.128975</td>\n",
              "      <td>0.134247</td>\n",
              "      <td>0.165258</td>\n",
              "      <td>0.263817</td>\n",
              "      <td>0.277036</td>\n",
              "      <td>0.285397</td>\n",
              "      <td>0.346228</td>\n",
              "    </tr>\n",
              "    <tr>\n",
              "      <th>294</th>\n",
              "      <td>0.368764</td>\n",
              "      <td>0.371792</td>\n",
              "      <td>0.429985</td>\n",
              "      <td>0.399900</td>\n",
              "      <td>0.169617</td>\n",
              "      <td>0.141677</td>\n",
              "      <td>0.143453</td>\n",
              "      <td>0.178092</td>\n",
              "      <td>0.161540</td>\n",
              "      <td>0.138045</td>\n",
              "      <td>0.135766</td>\n",
              "      <td>0.174656</td>\n",
              "      <td>0.247501</td>\n",
              "      <td>0.269087</td>\n",
              "      <td>0.278511</td>\n",
              "      <td>0.345901</td>\n",
              "    </tr>\n",
              "    <tr>\n",
              "      <th>407</th>\n",
              "      <td>0.365074</td>\n",
              "      <td>0.444810</td>\n",
              "      <td>0.284430</td>\n",
              "      <td>0.476946</td>\n",
              "      <td>0.044199</td>\n",
              "      <td>0.047586</td>\n",
              "      <td>0.060156</td>\n",
              "      <td>0.133105</td>\n",
              "      <td>0.037424</td>\n",
              "      <td>0.045742</td>\n",
              "      <td>0.058637</td>\n",
              "      <td>0.136123</td>\n",
              "      <td>0.374854</td>\n",
              "      <td>0.440653</td>\n",
              "      <td>0.211158</td>\n",
              "      <td>0.244981</td>\n",
              "    </tr>\n",
              "    <tr>\n",
              "      <th>408</th>\n",
              "      <td>0.383040</td>\n",
              "      <td>0.405028</td>\n",
              "      <td>0.312106</td>\n",
              "      <td>0.487664</td>\n",
              "      <td>0.046987</td>\n",
              "      <td>0.046040</td>\n",
              "      <td>0.063921</td>\n",
              "      <td>0.145116</td>\n",
              "      <td>0.037930</td>\n",
              "      <td>0.044734</td>\n",
              "      <td>0.063033</td>\n",
              "      <td>0.146224</td>\n",
              "      <td>0.390250</td>\n",
              "      <td>0.400670</td>\n",
              "      <td>0.224882</td>\n",
              "      <td>0.262927</td>\n",
              "    </tr>\n",
              "    <tr>\n",
              "      <th>409</th>\n",
              "      <td>0.363274</td>\n",
              "      <td>0.377522</td>\n",
              "      <td>0.328477</td>\n",
              "      <td>0.494080</td>\n",
              "      <td>0.046058</td>\n",
              "      <td>0.045113</td>\n",
              "      <td>0.067119</td>\n",
              "      <td>0.152124</td>\n",
              "      <td>0.036942</td>\n",
              "      <td>0.044936</td>\n",
              "      <td>0.066520</td>\n",
              "      <td>0.151758</td>\n",
              "      <td>0.371217</td>\n",
              "      <td>0.367435</td>\n",
              "      <td>0.228980</td>\n",
              "      <td>0.276851</td>\n",
              "    </tr>\n",
              "    <tr>\n",
              "      <th>...</th>\n",
              "      <td>...</td>\n",
              "      <td>...</td>\n",
              "      <td>...</td>\n",
              "      <td>...</td>\n",
              "      <td>...</td>\n",
              "      <td>...</td>\n",
              "      <td>...</td>\n",
              "      <td>...</td>\n",
              "      <td>...</td>\n",
              "      <td>...</td>\n",
              "      <td>...</td>\n",
              "      <td>...</td>\n",
              "      <td>...</td>\n",
              "      <td>...</td>\n",
              "      <td>...</td>\n",
              "      <td>...</td>\n",
              "    </tr>\n",
              "    <tr>\n",
              "      <th>912804</th>\n",
              "      <td>0.386021</td>\n",
              "      <td>0.386499</td>\n",
              "      <td>0.344183</td>\n",
              "      <td>0.372007</td>\n",
              "      <td>0.220641</td>\n",
              "      <td>0.213662</td>\n",
              "      <td>0.194252</td>\n",
              "      <td>0.196911</td>\n",
              "      <td>0.196238</td>\n",
              "      <td>0.212092</td>\n",
              "      <td>0.193461</td>\n",
              "      <td>0.193794</td>\n",
              "      <td>0.342647</td>\n",
              "      <td>0.364763</td>\n",
              "      <td>0.327215</td>\n",
              "      <td>0.307383</td>\n",
              "    </tr>\n",
              "    <tr>\n",
              "      <th>912805</th>\n",
              "      <td>0.371662</td>\n",
              "      <td>0.394714</td>\n",
              "      <td>0.317997</td>\n",
              "      <td>0.370455</td>\n",
              "      <td>0.202678</td>\n",
              "      <td>0.215531</td>\n",
              "      <td>0.188533</td>\n",
              "      <td>0.190531</td>\n",
              "      <td>0.201207</td>\n",
              "      <td>0.212502</td>\n",
              "      <td>0.186531</td>\n",
              "      <td>0.190582</td>\n",
              "      <td>0.346239</td>\n",
              "      <td>0.384554</td>\n",
              "      <td>0.320463</td>\n",
              "      <td>0.292348</td>\n",
              "    </tr>\n",
              "    <tr>\n",
              "      <th>912845</th>\n",
              "      <td>0.365775</td>\n",
              "      <td>0.445830</td>\n",
              "      <td>0.327080</td>\n",
              "      <td>0.388767</td>\n",
              "      <td>0.115599</td>\n",
              "      <td>0.167935</td>\n",
              "      <td>0.130081</td>\n",
              "      <td>0.151387</td>\n",
              "      <td>0.113612</td>\n",
              "      <td>0.164911</td>\n",
              "      <td>0.130176</td>\n",
              "      <td>0.153505</td>\n",
              "      <td>0.307638</td>\n",
              "      <td>0.362533</td>\n",
              "      <td>0.281929</td>\n",
              "      <td>0.367556</td>\n",
              "    </tr>\n",
              "    <tr>\n",
              "      <th>912846</th>\n",
              "      <td>0.370710</td>\n",
              "      <td>0.454260</td>\n",
              "      <td>0.323791</td>\n",
              "      <td>0.379990</td>\n",
              "      <td>0.114854</td>\n",
              "      <td>0.165941</td>\n",
              "      <td>0.130673</td>\n",
              "      <td>0.152457</td>\n",
              "      <td>0.114861</td>\n",
              "      <td>0.167460</td>\n",
              "      <td>0.130584</td>\n",
              "      <td>0.152356</td>\n",
              "      <td>0.304863</td>\n",
              "      <td>0.370374</td>\n",
              "      <td>0.274968</td>\n",
              "      <td>0.343228</td>\n",
              "    </tr>\n",
              "    <tr>\n",
              "      <th>912847</th>\n",
              "      <td>0.367896</td>\n",
              "      <td>0.435832</td>\n",
              "      <td>0.326562</td>\n",
              "      <td>0.380006</td>\n",
              "      <td>0.113608</td>\n",
              "      <td>0.151231</td>\n",
              "      <td>0.130891</td>\n",
              "      <td>0.139839</td>\n",
              "      <td>0.114570</td>\n",
              "      <td>0.151200</td>\n",
              "      <td>0.131430</td>\n",
              "      <td>0.139300</td>\n",
              "      <td>0.294364</td>\n",
              "      <td>0.367376</td>\n",
              "      <td>0.264256</td>\n",
              "      <td>0.329923</td>\n",
              "    </tr>\n",
              "  </tbody>\n",
              "</table>\n",
              "<p>33692 rows × 16 columns</p>\n",
              "</div>\n",
              "      <button class=\"colab-df-convert\" onclick=\"convertToInteractive('df-3451d7be-d644-42ce-85e0-9e08508ee346')\"\n",
              "              title=\"Convert this dataframe to an interactive table.\"\n",
              "              style=\"display:none;\">\n",
              "        \n",
              "  <svg xmlns=\"http://www.w3.org/2000/svg\" height=\"24px\"viewBox=\"0 0 24 24\"\n",
              "       width=\"24px\">\n",
              "    <path d=\"M0 0h24v24H0V0z\" fill=\"none\"/>\n",
              "    <path d=\"M18.56 5.44l.94 2.06.94-2.06 2.06-.94-2.06-.94-.94-2.06-.94 2.06-2.06.94zm-11 1L8.5 8.5l.94-2.06 2.06-.94-2.06-.94L8.5 2.5l-.94 2.06-2.06.94zm10 10l.94 2.06.94-2.06 2.06-.94-2.06-.94-.94-2.06-.94 2.06-2.06.94z\"/><path d=\"M17.41 7.96l-1.37-1.37c-.4-.4-.92-.59-1.43-.59-.52 0-1.04.2-1.43.59L10.3 9.45l-7.72 7.72c-.78.78-.78 2.05 0 2.83L4 21.41c.39.39.9.59 1.41.59.51 0 1.02-.2 1.41-.59l7.78-7.78 2.81-2.81c.8-.78.8-2.07 0-2.86zM5.41 20L4 18.59l7.72-7.72 1.47 1.35L5.41 20z\"/>\n",
              "  </svg>\n",
              "      </button>\n",
              "      \n",
              "  <style>\n",
              "    .colab-df-container {\n",
              "      display:flex;\n",
              "      flex-wrap:wrap;\n",
              "      gap: 12px;\n",
              "    }\n",
              "\n",
              "    .colab-df-convert {\n",
              "      background-color: #E8F0FE;\n",
              "      border: none;\n",
              "      border-radius: 50%;\n",
              "      cursor: pointer;\n",
              "      display: none;\n",
              "      fill: #1967D2;\n",
              "      height: 32px;\n",
              "      padding: 0 0 0 0;\n",
              "      width: 32px;\n",
              "    }\n",
              "\n",
              "    .colab-df-convert:hover {\n",
              "      background-color: #E2EBFA;\n",
              "      box-shadow: 0px 1px 2px rgba(60, 64, 67, 0.3), 0px 1px 3px 1px rgba(60, 64, 67, 0.15);\n",
              "      fill: #174EA6;\n",
              "    }\n",
              "\n",
              "    [theme=dark] .colab-df-convert {\n",
              "      background-color: #3B4455;\n",
              "      fill: #D2E3FC;\n",
              "    }\n",
              "\n",
              "    [theme=dark] .colab-df-convert:hover {\n",
              "      background-color: #434B5C;\n",
              "      box-shadow: 0px 1px 3px 1px rgba(0, 0, 0, 0.15);\n",
              "      filter: drop-shadow(0px 1px 2px rgba(0, 0, 0, 0.3));\n",
              "      fill: #FFFFFF;\n",
              "    }\n",
              "  </style>\n",
              "\n",
              "      <script>\n",
              "        const buttonEl =\n",
              "          document.querySelector('#df-3451d7be-d644-42ce-85e0-9e08508ee346 button.colab-df-convert');\n",
              "        buttonEl.style.display =\n",
              "          google.colab.kernel.accessAllowed ? 'block' : 'none';\n",
              "\n",
              "        async function convertToInteractive(key) {\n",
              "          const element = document.querySelector('#df-3451d7be-d644-42ce-85e0-9e08508ee346');\n",
              "          const dataTable =\n",
              "            await google.colab.kernel.invokeFunction('convertToInteractive',\n",
              "                                                     [key], {});\n",
              "          if (!dataTable) return;\n",
              "\n",
              "          const docLinkHtml = 'Like what you see? Visit the ' +\n",
              "            '<a target=\"_blank\" href=https://colab.research.google.com/notebooks/data_table.ipynb>data table notebook</a>'\n",
              "            + ' to learn more about interactive tables.';\n",
              "          element.innerHTML = '';\n",
              "          dataTable['output_type'] = 'display_data';\n",
              "          await google.colab.output.renderOutput(dataTable, element);\n",
              "          const docLink = document.createElement('div');\n",
              "          docLink.innerHTML = docLinkHtml;\n",
              "          element.appendChild(docLink);\n",
              "        }\n",
              "      </script>\n",
              "    </div>\n",
              "  </div>\n",
              "  "
            ],
            "text/plain": [
              "              0         1         2   ...        13        14        15\n",
              "293     0.360440  0.375320  0.461218  ...  0.277036  0.285397  0.346228\n",
              "294     0.368764  0.371792  0.429985  ...  0.269087  0.278511  0.345901\n",
              "407     0.365074  0.444810  0.284430  ...  0.440653  0.211158  0.244981\n",
              "408     0.383040  0.405028  0.312106  ...  0.400670  0.224882  0.262927\n",
              "409     0.363274  0.377522  0.328477  ...  0.367435  0.228980  0.276851\n",
              "...          ...       ...       ...  ...       ...       ...       ...\n",
              "912804  0.386021  0.386499  0.344183  ...  0.364763  0.327215  0.307383\n",
              "912805  0.371662  0.394714  0.317997  ...  0.384554  0.320463  0.292348\n",
              "912845  0.365775  0.445830  0.327080  ...  0.362533  0.281929  0.367556\n",
              "912846  0.370710  0.454260  0.323791  ...  0.370374  0.274968  0.343228\n",
              "912847  0.367896  0.435832  0.326562  ...  0.367376  0.264256  0.329923\n",
              "\n",
              "[33692 rows x 16 columns]"
            ]
          },
          "metadata": {},
          "execution_count": 20
        }
      ]
    },
    {
      "cell_type": "code",
      "source": [
        "df8 = (df.loc[df[0]<=0.55])\n",
        "df9 = (df8.loc[df8[0]>0.44])\n",
        "df9\n"
      ],
      "metadata": {
        "id": "0jl3Q3hrWBEB"
      },
      "execution_count": null,
      "outputs": []
    },
    {
      "cell_type": "code",
      "source": [
        "df10 = (df.loc[df[0]<=0.65])\n",
        "df11 = (df10.loc[df10[0]>0.55])\n",
        "df11"
      ],
      "metadata": {
        "id": "GLI1GMg8WRfg"
      },
      "execution_count": null,
      "outputs": []
    },
    {
      "cell_type": "code",
      "source": [
        "df12 = (df.loc[df[0]<=0.75])\n",
        "df13 = (df12.loc[df12[0]>0.65])    \n",
        "df13"
      ],
      "metadata": {
        "id": "3XavjUiiXGEw"
      },
      "execution_count": null,
      "outputs": []
    },
    {
      "cell_type": "code",
      "source": [
        "df14 = (df.loc[df[0]<=0.85])\n",
        "df15 = (df14.loc[df14[0]>0.75]) \n",
        "df15   "
      ],
      "metadata": {
        "id": "2BRXQnOSZ5J4"
      },
      "execution_count": null,
      "outputs": []
    },
    {
      "cell_type": "code",
      "source": [
        "df16 = (df.loc[df[0]<=0.95])\n",
        "df17 = (df16.loc[df16[0]>0.85])    \n",
        "df17"
      ],
      "metadata": {
        "id": "hwfWj4woaFBY"
      },
      "execution_count": null,
      "outputs": []
    },
    {
      "cell_type": "code",
      "source": [
        "df18 = (df.loc[df[0]<=1.5])\n",
        "df19 = (df18.loc[df18[0]>0.95])  \n",
        "df19  "
      ],
      "metadata": {
        "id": "Wh9emu8waQoO"
      },
      "execution_count": null,
      "outputs": []
    },
    {
      "cell_type": "code",
      "source": [
        "from google.colab import drive\n",
        "drive.mount('/content/drive')"
      ],
      "metadata": {
        "colab": {
          "base_uri": "https://localhost:8080/"
        },
        "id": "cXhTnkvOse-h",
        "outputId": "712f66d8-0a43-4766-b8e0-46892ba8be22"
      },
      "execution_count": null,
      "outputs": [
        {
          "output_type": "stream",
          "name": "stdout",
          "text": [
            "Mounted at /content/drive\n"
          ]
        }
      ]
    },
    {
      "cell_type": "code",
      "source": [
        "a = np.arange((97327),dtype = np.int)\n",
        "arrays = df1.values.tolist()\n",
        "rand = np.random.choice(a,size = 2,replace ='False')\n",
        "print(arrays[rand[0]])\n",
        "print(arrays[rand[1]])\n",
        "print(rand)"
      ],
      "metadata": {
        "id": "-Egd_Ea4jEKq",
        "colab": {
          "base_uri": "https://localhost:8080/"
        },
        "outputId": "3db37c87-9741-453d-b884-df8f45098013"
      },
      "execution_count": null,
      "outputs": [
        {
          "output_type": "stream",
          "name": "stdout",
          "text": [
            "[0.11885184794664383, 0.17494447529315948, 0.2592310607433319, 0.5971407294273376, 0.051219046115875244, 0.03572643920779228, 0.06800180673599243, 0.1342071294784546, 0.050045646727085114, 0.03803692013025284, 0.06451113522052765, 0.1380898505449295, 0.11795701831579208, 0.17510128021240234, 0.1976756453514099, 0.33239540457725525]\n",
            "[0.10061652213335037, 0.17515017092227936, 0.2794349491596222, 0.3966531753540039, 0.02746819518506527, 0.04997771233320236, 0.0895790085196495, 0.10025882720947266, 0.027017133310437202, 0.048811327666044235, 0.08996494859457016, 0.09610733389854431, 0.09676515311002731, 0.11871044337749481, 0.15983140468597412, 0.17374207079410553]\n",
            "[67530 61346]\n"
          ]
        }
      ]
    },
    {
      "cell_type": "code",
      "source": [
        "b = arrays[75768]\n",
        "c = arrays[37961]\n",
        "carray = np.array(b,dtype = np.float)\n",
        "barray = np.array(c,dtype = np.float)\n",
        "carray\n",
        "barray\n"
      ],
      "metadata": {
        "id": "HWRqCD_Byv88"
      },
      "execution_count": null,
      "outputs": []
    },
    {
      "cell_type": "code",
      "source": [
        "a1 = np.arange((515607),dtype = np.int)\n",
        "arrays1 = df3.values.tolist()\n",
        "rand = np.random.choice(a1,size = 2,replace ='False')\n",
        "print(arrays1[rand[0]])\n",
        "print(arrays1[rand[1]])\n",
        "print(rand)"
      ],
      "metadata": {
        "id": "ImqMZ_XUQHp0"
      },
      "execution_count": null,
      "outputs": []
    },
    {
      "cell_type": "code",
      "source": [
        "b1 = arrays1[169536]\n",
        "c1 = arrays1[342680]\n",
        "c1array = np.array(b1,dtype = np.float)\n",
        "b1array = np.array(c1,dtype = np.float)\n",
        "c1array\n",
        "b1array\n"
      ],
      "metadata": {
        "id": "0kfMeqAoQSqT",
        "colab": {
          "base_uri": "https://localhost:8080/"
        },
        "outputId": "73a04ec4-b6ce-4581-b27a-7ee6ec4d7c13"
      },
      "execution_count": null,
      "outputs": [
        {
          "output_type": "execute_result",
          "data": {
            "text/plain": [
              "array([0.16242489, 0.2975041 , 0.39006895, 0.49840659, 0.03544148,\n",
              "       0.05540279, 0.09168975, 0.11959891, 0.03415427, 0.05004091,\n",
              "       0.08672624, 0.11924151, 0.16345173, 0.21356392, 0.29690823,\n",
              "       0.32182944])"
            ]
          },
          "metadata": {},
          "execution_count": 30
        }
      ]
    },
    {
      "cell_type": "code",
      "source": [
        "a2 = np.arange((251165),dtype = np.int)\n",
        "arrays2 = df5.values.tolist()\n",
        "rand = np.random.choice(a2,size = 2,replace ='False')\n",
        "print(arrays2[rand[0]])\n",
        "print(arrays2[rand[1]])\n",
        "print(rand)"
      ],
      "metadata": {
        "colab": {
          "base_uri": "https://localhost:8080/"
        },
        "id": "rydXxr6fQ8Js",
        "outputId": "9bd26ea4-5e42-48d2-f763-45cffdf595d3"
      },
      "execution_count": null,
      "outputs": [
        {
          "output_type": "stream",
          "name": "stdout",
          "text": [
            "[0.3372856080532074, 0.5489248037338257, 0.5100054740905762, 0.5874532461166382, 0.09232266247272491, 0.1413583606481552, 0.08509345352649689, 0.10708776116371155, 0.09992958605289459, 0.14903227984905243, 0.08446285128593445, 0.11488837748765945, 0.3228817582130432, 0.5497128367424011, 0.30193769931793213, 0.3665097653865814]\n",
            "[0.21188174188137054, 0.2777145206928253, 0.2633502781391144, 0.38859206438064575, 0.08197999000549316, 0.09465191513299942, 0.09080160409212112, 0.14193019270896912, 0.08322098851203918, 0.09968546032905579, 0.08942770212888718, 0.14033114910125732, 0.17674463987350464, 0.25744810700416565, 0.2763311266899109, 0.28581663966178894]\n",
            "[212503 130063]\n"
          ]
        }
      ]
    },
    {
      "cell_type": "code",
      "source": [
        "b2 = arrays2[8419]\n",
        "c2 = arrays2[22711]\n",
        "c2array = np.array(b2,dtype = np.float)\n",
        "b2array = np.array(c2,dtype = np.float)\n",
        "c2array\n",
        "b2array"
      ],
      "metadata": {
        "id": "Rag6Q99ZRcx9"
      },
      "execution_count": null,
      "outputs": []
    },
    {
      "cell_type": "code",
      "source": [
        "a3 = np.arange((33692),dtype = np.int)\n",
        "arrays3 = df7.values.tolist()\n",
        "rand = np.random.choice(a3,size = 2,replace ='False')\n",
        "print(arrays3[rand[0]])\n",
        "print(arrays3[rand[1]])\n",
        "print(rand)"
      ],
      "metadata": {
        "id": "nrIso_qVSqfW"
      },
      "execution_count": null,
      "outputs": []
    },
    {
      "cell_type": "code",
      "source": [
        "b3 = arrays3[24114]\n",
        "c3 = arrays3[25109]\n",
        "c3array = np.array(b3,dtype = np.float)\n",
        "b3array = np.array(c3,dtype = np.float)\n",
        "c3array\n",
        "b3array"
      ],
      "metadata": {
        "id": "50i3lMRoTSxF"
      },
      "execution_count": null,
      "outputs": []
    },
    {
      "cell_type": "code",
      "source": [
        "a4 = np.arange((8844),dtype = np.int)\n",
        "arrays4 = df9.values.tolist()\n",
        "rand = np.random.choice(a4,size = 2,replace ='False')\n",
        "print(arrays4[rand[0]])\n",
        "print(arrays4[rand[1]])\n",
        "print(rand)"
      ],
      "metadata": {
        "id": "eOqhDBizTqn9",
        "colab": {
          "base_uri": "https://localhost:8080/"
        },
        "outputId": "59bbecf7-f934-45aa-97e3-03398ea71466"
      },
      "execution_count": null,
      "outputs": [
        {
          "output_type": "stream",
          "name": "stdout",
          "text": [
            "[0.4449501931667328, 1.005415439605713, 0.5054154992103577, 0.6402284502983093, 0.04079004377126694, 0.08006611466407776, 0.08265065401792526, 0.11478661000728607, 0.03544639050960541, 0.07049726694822311, 0.08291126787662506, 0.11182770133018494, 0.6153373718261719, 1.159905195236206, 0.26952898502349854, 0.34101057052612305]\n",
            "[0.5073779225349426, 0.6478710174560547, 0.5394091010093689, 0.5366206765174866, 0.08256153017282486, 0.09560365229845047, 0.08931110799312592, 0.09231831878423691, 0.08558063954114914, 0.10432422161102295, 0.08979593217372894, 0.08701828122138977, 0.5103184580802917, 0.6375941634178162, 0.49315348267555237, 0.4702434837818146]\n",
            "[6320 4638]\n"
          ]
        }
      ]
    },
    {
      "cell_type": "code",
      "source": [
        "b4 = arrays4[536]\n",
        "c4 = arrays4[3819]\n",
        "c4array = np.array(b4,dtype = np.float)\n",
        "b4array = np.array(c4,dtype = np.float)\n",
        "c4array\n",
        "b4array"
      ],
      "metadata": {
        "id": "ZC5nXLr9T-gE",
        "colab": {
          "base_uri": "https://localhost:8080/"
        },
        "outputId": "3f7de4ba-7218-410b-db85-ad872bf19096"
      },
      "execution_count": null,
      "outputs": [
        {
          "output_type": "execute_result",
          "data": {
            "text/plain": [
              "array([0.48591956, 0.64495552, 0.78496528, 1.15367913, 0.06599028,\n",
              "       0.04448884, 0.11707361, 0.12194192, 0.06151984, 0.05470994,\n",
              "       0.11083928, 0.11713503, 0.70093834, 0.78553814, 0.46200311,\n",
              "       0.39893204])"
            ]
          },
          "metadata": {},
          "execution_count": 36
        }
      ]
    },
    {
      "cell_type": "code",
      "source": [
        "a5 = np.arange((2462),dtype = np.int)\n",
        "arrays5 = df11.values.tolist()\n",
        "rand = np.random.choice(a5,size = 2,replace ='False')\n",
        "print(arrays5[rand[0]])\n",
        "print(arrays5[rand[1]])\n",
        "print(rand)"
      ],
      "metadata": {
        "id": "JYesa0A4Uew1",
        "colab": {
          "base_uri": "https://localhost:8080/"
        },
        "outputId": "c3904629-2336-4541-e32c-9cde1d0d733f"
      },
      "execution_count": null,
      "outputs": [
        {
          "output_type": "stream",
          "name": "stdout",
          "text": [
            "[0.5845558047294617, 0.34183090925216675, 0.6962029933929443, 0.9066682457923889, 0.10991641879081726, 0.070929616689682, 0.13163813948631287, 0.14186431467533112, 0.09454016387462616, 0.0745701715350151, 0.12762919068336487, 0.1414511650800705, 0.366271436214447, 0.2783358693122864, 0.4541982412338257, 0.44869664311408997]\n",
            "[0.6014096140861511, 1.1763819456100464, 0.5489133596420288, 0.7661392688751221, 0.05552138015627861, 0.07357994467020035, 0.08420678228139877, 0.1225471943616867, 0.05700039491057396, 0.06000884249806404, 0.07807408273220062, 0.11541624367237091, 0.6426525712013245, 1.263814926147461, 0.33802530169487, 0.44065606594085693]\n",
            "[ 163 1793]\n"
          ]
        }
      ]
    },
    {
      "cell_type": "code",
      "source": [
        "b5 = arrays5[1910]\n",
        "c5 = arrays5[605]\n",
        "c5array = np.array(b5,dtype = np.float)\n",
        "b5array = np.array(c5,dtype = np.float)\n",
        "c5array\n",
        "b5array"
      ],
      "metadata": {
        "id": "J2-4mn_fUzgG",
        "colab": {
          "base_uri": "https://localhost:8080/"
        },
        "outputId": "62976adb-30e6-4e2f-9c13-91c1fb4dcadb"
      },
      "execution_count": null,
      "outputs": [
        {
          "output_type": "execute_result",
          "data": {
            "text/plain": [
              "array([0.55213666, 0.78476167, 0.28823504, 1.61843967, 0.10858058,\n",
              "       0.07335446, 0.06967835, 0.0918667 , 0.09682995, 0.05962326,\n",
              "       0.0711979 , 0.08492143, 0.60668874, 0.39211243, 0.28499505,\n",
              "       1.16952324])"
            ]
          },
          "metadata": {},
          "execution_count": 38
        }
      ]
    },
    {
      "cell_type": "code",
      "source": [
        "a6 = np.arange((1450),dtype = np.int)\n",
        "arrays6 = df13.values.tolist()\n",
        "rand = np.random.choice(a6,size = 2,replace ='False')\n",
        "print(arrays6[rand[0]])\n",
        "print(arrays6[rand[1]])\n",
        "print(rand)"
      ],
      "metadata": {
        "id": "KM5CEIpVVWFA",
        "colab": {
          "base_uri": "https://localhost:8080/"
        },
        "outputId": "a30f6bdc-3afa-44dd-f0b1-407c68a202fb"
      },
      "execution_count": null,
      "outputs": [
        {
          "output_type": "stream",
          "name": "stdout",
          "text": [
            "[0.6851007342338562, 0.7210500836372375, 0.8149034380912781, 0.6918994784355164, 0.10169081389904022, 0.1382981389760971, 0.1459173560142517, 0.13147100806236267, 0.0884290486574173, 0.12877260148525238, 0.14342206716537476, 0.12447667866945267, 0.3835608959197998, 0.34781357645988464, 0.48217636346817017, 0.4186024069786072]\n",
            "[0.6689965724945068, 0.9275507926940918, 1.3400968313217163, 0.6918380856513977, 0.16142600774765015, 0.17971234023571014, 0.14956389367580414, 0.1518351137638092, 0.1509101688861847, 0.16337063908576965, 0.14792482554912567, 0.14892175793647766, 0.5552554130554199, 0.9269157648086548, 0.5775606036186218, 0.39357897639274597]\n",
            "[162 831]\n"
          ]
        }
      ]
    },
    {
      "cell_type": "code",
      "source": [
        "b6 = arrays6[93]\n",
        "c6 = arrays6[943]\n",
        "c6array = np.array(b6,dtype = np.float)\n",
        "b6array = np.array(c6,dtype = np.float)\n",
        "c6array\n",
        "b6array"
      ],
      "metadata": {
        "id": "Vo4SpdBSVm1H",
        "colab": {
          "base_uri": "https://localhost:8080/"
        },
        "outputId": "a940b896-b5bc-445e-dfe0-f070fc591df8"
      },
      "execution_count": null,
      "outputs": [
        {
          "output_type": "execute_result",
          "data": {
            "text/plain": [
              "array([0.73974043, 0.71677399, 0.5347625 , 0.55073833, 0.09809441,\n",
              "       0.0722068 , 0.08281379, 0.0923587 , 0.07227162, 0.06576657,\n",
              "       0.08023327, 0.08548085, 0.48272198, 0.29113075, 0.42657512,\n",
              "       0.39375964])"
            ]
          },
          "metadata": {},
          "execution_count": 40
        }
      ]
    },
    {
      "cell_type": "code",
      "source": [
        "a7 = np.arange((867),dtype = np.int)\n",
        "arrays7 = df15.values.tolist()\n",
        "rand = np.random.choice(a7,size = 2,replace ='False')\n",
        "print(arrays7[rand[0]])\n",
        "print(arrays7[rand[1]])\n",
        "print(rand)"
      ],
      "metadata": {
        "id": "DnVLhGF7Wn06",
        "colab": {
          "base_uri": "https://localhost:8080/"
        },
        "outputId": "1fed3cc5-0b76-4aeb-b1ff-d3c1ee703ed9"
      },
      "execution_count": null,
      "outputs": [
        {
          "output_type": "stream",
          "name": "stdout",
          "text": [
            "[0.8375716209411621, 0.7233113050460815, 0.4286421537399292, 0.643115758895874, 0.08197192847728729, 0.06804122775793076, 0.06168518587946892, 0.09722112864255905, 0.05236791446805, 0.04929086193442345, 0.055358920246362686, 0.10114092379808426, 0.4284890592098236, 0.5542106628417969, 0.2976568937301636, 0.46393316984176636]\n",
            "[0.8454606533050537, 1.600297212600708, 0.5971361994743347, 0.7247403264045715, 0.0693231076002121, 0.08203675597906113, 0.07483862340450287, 0.11131899803876877, 0.06354741007089615, 0.08123328536748886, 0.07137704640626907, 0.10655313730239868, 0.6150203347206116, 1.4464560747146606, 0.5495174527168274, 0.5438584089279175]\n",
            "[717 707]\n"
          ]
        }
      ]
    },
    {
      "cell_type": "code",
      "source": [
        "b7 = arrays7[417]\n",
        "c7 = arrays7[359]\n",
        "c7array = np.array(b7,dtype = np.float)\n",
        "b7array = np.array(c7,dtype = np.float)\n",
        "c7array\n",
        "b7array"
      ],
      "metadata": {
        "id": "zuWWT-g8YAdV",
        "colab": {
          "base_uri": "https://localhost:8080/"
        },
        "outputId": "6214aba2-d1f2-410a-9748-fce7b01da500"
      },
      "execution_count": null,
      "outputs": [
        {
          "output_type": "execute_result",
          "data": {
            "text/plain": [
              "array([0.76211625, 0.45864236, 0.62780786, 0.50861537, 0.10747193,\n",
              "       0.10676809, 0.09411988, 0.09738591, 0.09346981, 0.10162432,\n",
              "       0.09225821, 0.09605107, 0.79631716, 0.37932307, 0.50980371,\n",
              "       0.4087323 ])"
            ]
          },
          "metadata": {},
          "execution_count": 42
        }
      ]
    },
    {
      "cell_type": "code",
      "source": [
        "a8 = np.arange((615),dtype = np.int)\n",
        "arrays8 = df17.values.tolist()\n",
        "rand = np.random.choice(a8,size = 2,replace ='False')\n",
        "print(arrays8[rand[0]])\n",
        "print(arrays8[rand[1]])\n",
        "print(rand)"
      ],
      "metadata": {
        "id": "b8fQShfXZfN6",
        "colab": {
          "base_uri": "https://localhost:8080/"
        },
        "outputId": "256fee70-c7b1-46a2-934c-168712d2adfd"
      },
      "execution_count": null,
      "outputs": [
        {
          "output_type": "stream",
          "name": "stdout",
          "text": [
            "[0.8522995114326477, 0.6222986578941345, 0.6806915402412415, 0.5178287029266357, 0.10839132964611053, 0.09528792649507523, 0.10889193415641785, 0.10685349255800247, 0.12398870289325714, 0.10487911850214005, 0.10434956103563309, 0.10810008645057678, 0.6610302329063416, 0.5425639748573303, 0.6030646562576294, 0.39465489983558655]\n",
            "[0.9461134672164917, 1.3113815784454346, 0.876384437084198, 1.0173841714859009, 0.24234747886657715, 0.1688440889120102, 0.13498163223266602, 0.12286095321178436, 0.25902387499809265, 0.1694611757993698, 0.13297346234321594, 0.12663976848125458, 0.787631630897522, 0.6565753817558289, 0.5849010944366455, 0.5994827151298523]\n",
            "[202 298]\n"
          ]
        }
      ]
    },
    {
      "cell_type": "code",
      "source": [
        "b8 = arrays8[85]\n",
        "c8 = arrays8[590]\n",
        "c8array = np.array(b8,dtype = np.float)\n",
        "b8array = np.array(c8,dtype = np.float)\n",
        "c8array\n",
        "b8array"
      ],
      "metadata": {
        "id": "FdQEGXdnZiuI",
        "colab": {
          "base_uri": "https://localhost:8080/"
        },
        "outputId": "186962a2-f2f5-4872-9d68-791fe778e792"
      },
      "execution_count": null,
      "outputs": [
        {
          "output_type": "execute_result",
          "data": {
            "text/plain": [
              "array([0.93132156, 0.69857073, 0.51835376, 0.44410703, 0.12586723,\n",
              "       0.12638082, 0.13920332, 0.12978908, 0.13377422, 0.12569521,\n",
              "       0.1419587 , 0.13157803, 0.94284743, 0.68851209, 0.45321843,\n",
              "       0.38075766])"
            ]
          },
          "metadata": {},
          "execution_count": 44
        }
      ]
    },
    {
      "cell_type": "code",
      "source": [
        "a9 = np.arange((1167),dtype = np.int)\n",
        "arrays9 = df19.values.tolist()\n",
        "rand = np.random.choice(a9,size = 2,replace ='False')\n",
        "print(arrays9[rand[0]])\n",
        "print(arrays9[rand[1]])\n",
        "print(rand)"
      ],
      "metadata": {
        "id": "OxedjQ3Nce8J",
        "colab": {
          "base_uri": "https://localhost:8080/"
        },
        "outputId": "41cfbc00-6eb7-49fa-abfa-ed500fea5203"
      },
      "execution_count": null,
      "outputs": [
        {
          "output_type": "stream",
          "name": "stdout",
          "text": [
            "[1.1860311031341553, 1.1541332006454468, 0.6218519806861877, 0.43075716495513916, 0.09778991341590881, 0.08933372050523758, 0.08727920055389404, 0.11399256438016891, 0.12385568767786026, 0.10090683400630951, 0.0893109068274498, 0.10901596397161484, 1.2572429180145264, 1.2751656770706177, 0.5448627471923828, 0.3009984791278839]\n",
            "[1.4645253419876099, 1.275356650352478, 0.46485766768455505, 0.8209973573684692, 0.0963195413351059, 0.10860627889633179, 0.08350999653339386, 0.0857168436050415, 0.07151283323764801, 0.07948563247919083, 0.079496368765831, 0.07961312681436539, 0.285300612449646, 0.37726742029190063, 0.2451239973306656, 0.3915672302246094]\n",
            "[ 899 1049]\n"
          ]
        }
      ]
    },
    {
      "cell_type": "code",
      "source": [
        "b9 = arrays9[85]\n",
        "c9 = arrays9[590]\n",
        "c9array = np.array(b9,dtype = np.float)\n",
        "b9array = np.array(c9,dtype = np.float)\n",
        "c9array\n",
        "b9array"
      ],
      "metadata": {
        "id": "EQpiQhlpcrpu",
        "colab": {
          "base_uri": "https://localhost:8080/"
        },
        "outputId": "dbfcf497-7ff6-491f-dbda-3bee49e0cd9b"
      },
      "execution_count": null,
      "outputs": [
        {
          "output_type": "execute_result",
          "data": {
            "text/plain": [
              "array([0.96011525, 1.33338606, 0.94716305, 0.74121559, 0.17274009,\n",
              "       0.18884465, 0.14973634, 0.14006862, 0.1483268 , 0.15695296,\n",
              "       0.14434017, 0.12800229, 0.89896971, 0.65174389, 0.61273432,\n",
              "       0.46326977])"
            ]
          },
          "metadata": {},
          "execution_count": 46
        }
      ]
    },
    {
      "cell_type": "code",
      "source": [
        "plt.figure(figsize =(20,10))\n",
        "plt.plot(carray)\n",
        "#plt.plot(barray)\n",
        "plt.plot(c1array)\n",
        "plt.plot(b1array)\n",
        "plt.plot(c2array)\n",
        "plt.plot(b2array)\n",
        "plt.plot(c4array)\n",
        "plt.plot(b4array)\n",
        "plt.plot(c5array)\n",
        "plt.plot(b5array)\n",
        "plt.plot(c6array)\n",
        "#plt.plot(b6array)\n",
        "plt.plot(c7array)\n",
        "plt.plot(b7array)\n",
        "plt.plot(c8array)\n",
        "plt.plot(b8array)\n",
        "plt.plot(c9array)\n",
        "plt.plot(b9array)\n",
        "plt.ylabel('Back scattering values')\n",
        "plt.xlabel('time stamp')\n",
        "plt.legend(['1st reference','2nd reference','3rd reference','4th reference','5th reference','6th rference','7th reference','8th reference','9th reference','10th reference','11th reference','12th reference','13th reference','14th reference','15th reference','16th reference'])\n",
        "plt.plot([3,3],[0.0,1.8],linestyle = 'dashed')\n",
        "plt.plot([7,7],[0.0,1.8],linestyle ='dashed')\n",
        "plt.plot([11,11],[0.0,1.8],linestyle ='dashed')"
      ],
      "metadata": {
        "id": "yE5s92DQQgRH"
      },
      "execution_count": null,
      "outputs": []
    },
    {
      "cell_type": "code",
      "source": [
        "def dp(df7,df8,m,n):\n",
        "    \n",
        "  \n",
        "    \n",
        "    \n",
        "\n",
        "    #N = df7.shape\n",
        "    #M = df8.shape\n",
        "    \n",
        "    # Initialize the cost matrix\n",
        "    cost_mat = np.zeros((17, 17))\n",
        "    for i in range(1, 17):\n",
        "        cost_mat[i, 0] = np.inf\n",
        "    for i in range(1, 17):\n",
        "        cost_mat[0, i] = np.inf\n",
        "\n",
        "    # Fill the cost matrix while keeping traceback information\n",
        "    traceback_mat = np.zeros((16, 16))\n",
        "    for i in range(16):\n",
        "        for j in range(16):\n",
        "            penalty = [\n",
        "                cost_mat[i, j],      # match (0)\n",
        "                cost_mat[i, j + 1],  # insertion (1)\n",
        "                cost_mat[i + 1, j]]  # deletion (2)\n",
        "            i_penalty = np.argmin(penalty)\n",
        "            cost_mat[i + 1, j + 1] = abs(df7[i]-df8[j]) + penalty[i_penalty]\n",
        "            traceback_mat[i, j] = i_penalty\n",
        "\n",
        "    # Traceback from bottom right\n",
        "    i = 16 - 1\n",
        "    j = 16 - 1\n",
        "    path = [(i, j)]\n",
        "    while i > 0 or j > 0:\n",
        "        tb_type = traceback_mat[i, j]\n",
        "        if tb_type == 0:\n",
        "            # Match\n",
        "            i = i - 1\n",
        "            j = j - 1\n",
        "        elif tb_type == 1:\n",
        "            # Insertion\n",
        "            i = i - 1\n",
        "        elif tb_type == 2:\n",
        "            # Deletion\n",
        "            j = j - 1\n",
        "        path.append((i, j))\n",
        "        \n",
        "\n",
        "    # Strip infinity edges from cost_mat before returning\n",
        "    cost_mat = cost_mat[1:, 1:]\n",
        "    m.append(cost_mat)\n",
        "    n.append(path[::-1])\n",
        "    return m,n"
      ],
      "metadata": {
        "id": "qa1rLs7133Kp"
      },
      "execution_count": null,
      "outputs": []
    },
    {
      "cell_type": "code",
      "source": [
        "s =df.values.tolist()\n",
        "\n",
        "m =[]\n",
        "n =[]\n",
        "\n",
        "for k in range(913402):\n",
        "  list = np.array(s[k],dtype = np.float)\n",
        "  \n",
        "  \n",
        "  dp(carray,list,m,n)\n",
        "  \n",
        "  "
      ],
      "metadata": {
        "id": "D5Sk2dPl4ASn"
      },
      "execution_count": null,
      "outputs": []
    },
    {
      "cell_type": "code",
      "source": [
        "h = []\n",
        "for i in m:\n",
        "  k =i[-1,-1]\n",
        "  h.append(k)"
      ],
      "metadata": {
        "id": "t6szRX9D4sOr"
      },
      "execution_count": null,
      "outputs": []
    },
    {
      "cell_type": "code",
      "source": [
        "csv = pd.read_csv('/content/drive/MyDrive/output.csv')\n",
        "data = pd.DataFrame(csv)"
      ],
      "metadata": {
        "id": "2OqQpjgJOvFK"
      },
      "execution_count": null,
      "outputs": []
    },
    {
      "cell_type": "markdown",
      "source": [
        "# New section"
      ],
      "metadata": {
        "id": "V4uMEHD3dlVr"
      }
    },
    {
      "cell_type": "code",
      "source": [
        "d = np.reshape(h,[913402,1],order='F')\n",
        "\n",
        "data[19] = pd.DataFrame(d)\n",
        "data"
      ],
      "metadata": {
        "id": "XwmDQq0vDiZ8"
      },
      "execution_count": null,
      "outputs": []
    },
    {
      "cell_type": "code",
      "source": [
        "from google.colab import drive\n",
        "drive.mount('/content/drive')\n",
        "path = '/content/drive/My Drive/output.csv'\n",
        "\n",
        "with open(path,'w',encoding = 'utf-8-sig')as f:\n",
        "  data.to_csv(f)"
      ],
      "metadata": {
        "id": "UYrk1LtuqkhW",
        "outputId": "b131a605-1b5c-417d-c546-914ea5721868",
        "colab": {
          "base_uri": "https://localhost:8080/",
          "height": 380
        }
      },
      "execution_count": null,
      "outputs": [
        {
          "output_type": "error",
          "ename": "MessageError",
          "evalue": "ignored",
          "traceback": [
            "\u001b[0;31m---------------------------------------------------------------------------\u001b[0m",
            "\u001b[0;31mMessageError\u001b[0m                              Traceback (most recent call last)",
            "\u001b[0;32m<ipython-input-1-673e9f3be5e9>\u001b[0m in \u001b[0;36m<module>\u001b[0;34m()\u001b[0m\n\u001b[1;32m      1\u001b[0m \u001b[0;32mfrom\u001b[0m \u001b[0mgoogle\u001b[0m\u001b[0;34m.\u001b[0m\u001b[0mcolab\u001b[0m \u001b[0;32mimport\u001b[0m \u001b[0mdrive\u001b[0m\u001b[0;34m\u001b[0m\u001b[0;34m\u001b[0m\u001b[0m\n\u001b[0;32m----> 2\u001b[0;31m \u001b[0mdrive\u001b[0m\u001b[0;34m.\u001b[0m\u001b[0mmount\u001b[0m\u001b[0;34m(\u001b[0m\u001b[0;34m'/content/drive'\u001b[0m\u001b[0;34m)\u001b[0m\u001b[0;34m\u001b[0m\u001b[0;34m\u001b[0m\u001b[0m\n\u001b[0m\u001b[1;32m      3\u001b[0m \u001b[0mpath\u001b[0m \u001b[0;34m=\u001b[0m \u001b[0;34m'/content/drive/My Drive/output.csv'\u001b[0m\u001b[0;34m\u001b[0m\u001b[0;34m\u001b[0m\u001b[0m\n\u001b[1;32m      4\u001b[0m \u001b[0;34m\u001b[0m\u001b[0m\n\u001b[1;32m      5\u001b[0m \u001b[0;32mwith\u001b[0m \u001b[0mopen\u001b[0m\u001b[0;34m(\u001b[0m\u001b[0mpath\u001b[0m\u001b[0;34m,\u001b[0m\u001b[0;34m'w'\u001b[0m\u001b[0;34m,\u001b[0m\u001b[0mencoding\u001b[0m \u001b[0;34m=\u001b[0m \u001b[0;34m'utf-8-sig'\u001b[0m\u001b[0;34m)\u001b[0m\u001b[0;32mas\u001b[0m \u001b[0mf\u001b[0m\u001b[0;34m:\u001b[0m\u001b[0;34m\u001b[0m\u001b[0;34m\u001b[0m\u001b[0m\n",
            "\u001b[0;32m/usr/local/lib/python3.7/dist-packages/google/colab/drive.py\u001b[0m in \u001b[0;36mmount\u001b[0;34m(mountpoint, force_remount, timeout_ms, use_metadata_server)\u001b[0m\n\u001b[1;32m    111\u001b[0m       \u001b[0mtimeout_ms\u001b[0m\u001b[0;34m=\u001b[0m\u001b[0mtimeout_ms\u001b[0m\u001b[0;34m,\u001b[0m\u001b[0;34m\u001b[0m\u001b[0;34m\u001b[0m\u001b[0m\n\u001b[1;32m    112\u001b[0m       \u001b[0muse_metadata_server\u001b[0m\u001b[0;34m=\u001b[0m\u001b[0muse_metadata_server\u001b[0m\u001b[0;34m,\u001b[0m\u001b[0;34m\u001b[0m\u001b[0;34m\u001b[0m\u001b[0m\n\u001b[0;32m--> 113\u001b[0;31m       ephemeral=ephemeral)\n\u001b[0m\u001b[1;32m    114\u001b[0m \u001b[0;34m\u001b[0m\u001b[0m\n\u001b[1;32m    115\u001b[0m \u001b[0;34m\u001b[0m\u001b[0m\n",
            "\u001b[0;32m/usr/local/lib/python3.7/dist-packages/google/colab/drive.py\u001b[0m in \u001b[0;36m_mount\u001b[0;34m(mountpoint, force_remount, timeout_ms, use_metadata_server, ephemeral)\u001b[0m\n\u001b[1;32m    134\u001b[0m   \u001b[0;32mif\u001b[0m \u001b[0mephemeral\u001b[0m\u001b[0;34m:\u001b[0m\u001b[0;34m\u001b[0m\u001b[0;34m\u001b[0m\u001b[0m\n\u001b[1;32m    135\u001b[0m     _message.blocking_request(\n\u001b[0;32m--> 136\u001b[0;31m         'request_auth', request={'authType': 'dfs_ephemeral'}, timeout_sec=None)\n\u001b[0m\u001b[1;32m    137\u001b[0m \u001b[0;34m\u001b[0m\u001b[0m\n\u001b[1;32m    138\u001b[0m   \u001b[0mmountpoint\u001b[0m \u001b[0;34m=\u001b[0m \u001b[0m_os\u001b[0m\u001b[0;34m.\u001b[0m\u001b[0mpath\u001b[0m\u001b[0;34m.\u001b[0m\u001b[0mexpanduser\u001b[0m\u001b[0;34m(\u001b[0m\u001b[0mmountpoint\u001b[0m\u001b[0;34m)\u001b[0m\u001b[0;34m\u001b[0m\u001b[0;34m\u001b[0m\u001b[0m\n",
            "\u001b[0;32m/usr/local/lib/python3.7/dist-packages/google/colab/_message.py\u001b[0m in \u001b[0;36mblocking_request\u001b[0;34m(request_type, request, timeout_sec, parent)\u001b[0m\n\u001b[1;32m    173\u001b[0m   request_id = send_request(\n\u001b[1;32m    174\u001b[0m       request_type, request, parent=parent, expect_reply=True)\n\u001b[0;32m--> 175\u001b[0;31m   \u001b[0;32mreturn\u001b[0m \u001b[0mread_reply_from_input\u001b[0m\u001b[0;34m(\u001b[0m\u001b[0mrequest_id\u001b[0m\u001b[0;34m,\u001b[0m \u001b[0mtimeout_sec\u001b[0m\u001b[0;34m)\u001b[0m\u001b[0;34m\u001b[0m\u001b[0;34m\u001b[0m\u001b[0m\n\u001b[0m",
            "\u001b[0;32m/usr/local/lib/python3.7/dist-packages/google/colab/_message.py\u001b[0m in \u001b[0;36mread_reply_from_input\u001b[0;34m(message_id, timeout_sec)\u001b[0m\n\u001b[1;32m    104\u001b[0m         reply.get('colab_msg_id') == message_id):\n\u001b[1;32m    105\u001b[0m       \u001b[0;32mif\u001b[0m \u001b[0;34m'error'\u001b[0m \u001b[0;32min\u001b[0m \u001b[0mreply\u001b[0m\u001b[0;34m:\u001b[0m\u001b[0;34m\u001b[0m\u001b[0;34m\u001b[0m\u001b[0m\n\u001b[0;32m--> 106\u001b[0;31m         \u001b[0;32mraise\u001b[0m \u001b[0mMessageError\u001b[0m\u001b[0;34m(\u001b[0m\u001b[0mreply\u001b[0m\u001b[0;34m[\u001b[0m\u001b[0;34m'error'\u001b[0m\u001b[0;34m]\u001b[0m\u001b[0;34m)\u001b[0m\u001b[0;34m\u001b[0m\u001b[0;34m\u001b[0m\u001b[0m\n\u001b[0m\u001b[1;32m    107\u001b[0m       \u001b[0;32mreturn\u001b[0m \u001b[0mreply\u001b[0m\u001b[0;34m.\u001b[0m\u001b[0mget\u001b[0m\u001b[0;34m(\u001b[0m\u001b[0;34m'data'\u001b[0m\u001b[0;34m,\u001b[0m \u001b[0;32mNone\u001b[0m\u001b[0;34m)\u001b[0m\u001b[0;34m\u001b[0m\u001b[0;34m\u001b[0m\u001b[0m\n\u001b[1;32m    108\u001b[0m \u001b[0;34m\u001b[0m\u001b[0m\n",
            "\u001b[0;31mMessageError\u001b[0m: Error: credential propagation was unsuccessful"
          ]
        }
      ]
    }
  ]
}